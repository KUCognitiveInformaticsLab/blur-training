{
 "cells": [
  {
   "cell_type": "markdown",
   "metadata": {
    "scrolled": true
   },
   "source": [
    "Ref:\n",
    "https://2021.visionsciences.org/?p=A82"
   ]
  },
  {
   "cell_type": "markdown",
   "metadata": {},
   "source": [
    "# imports"
   ]
  },
  {
   "cell_type": "code",
   "execution_count": 1,
   "metadata": {},
   "outputs": [],
   "source": [
    "import os\n",
    "import sys\n",
    "\n",
    "import matplotlib\n",
    "import matplotlib.pyplot as plt\n",
    "import numpy as np\n",
    "import torch\n",
    "import torchvision\n",
    "\n",
    "from robustness import datasets\n",
    "from robustness.tools.imagenet_helpers import common_superclass_wnid, ImageNetHierarchy\n",
    "\n",
    "sys.path.append(\"../\")\n",
    "from src.image_process.lowpass_filter import GaussianBlurAll\n",
    "from src.image_process.utils import imshow\n",
    "from src.dataset.imagenet16 import load_imagenet16\n",
    "\n",
    "%matplotlib inline"
   ]
  },
  {
   "cell_type": "markdown",
   "metadata": {},
   "source": [
    "# arguments"
   ]
  },
  {
   "cell_type": "code",
   "execution_count": 2,
   "metadata": {},
   "outputs": [],
   "source": [
    "out_dir = \"./results\"\n",
    "if not os.path.exists(out_dir):\n",
    "    os.makedirs(out_dir)"
   ]
  },
  {
   "cell_type": "code",
   "execution_count": 3,
   "metadata": {},
   "outputs": [],
   "source": [
    "# data settings\n",
    "batch_size = 32\n",
    "\n",
    "# random seed settings\n",
    "seed = 42\n",
    "np.random.seed(seed)\n",
    "torch.manual_seed(seed)\n",
    "if torch.cuda.is_available():\n",
    "    torch.cuda.manual_seed(seed)"
   ]
  },
  {
   "cell_type": "markdown",
   "metadata": {},
   "source": [
    "# main"
   ]
  },
  {
   "cell_type": "code",
   "execution_count": 4,
   "metadata": {},
   "outputs": [
    {
     "name": "stdout",
     "output_type": "stream",
     "text": [
      "==> Preparing dataset custom_imagenet..\n"
     ]
    }
   ],
   "source": [
    "# load data\n",
    "# Normalization is set \"False\" for showing images.\n",
    "# (It's  set \"True\" in training or testing)\n",
    "train_loader, _ = load_imagenet16(\n",
    "    imagenet_path=\"/Users/sou/lab2-mnt/data1/ImageNet/ILSVRC2012/\",\n",
    "    batch_size=batch_size, normalization=False)"
   ]
  },
  {
   "cell_type": "code",
   "execution_count": 5,
   "metadata": {},
   "outputs": [
    {
     "name": "stderr",
     "output_type": "stream",
     "text": [
      "Clipping input data to the valid range for imshow with RGB data ([0..1] for floats or [0..255] for integers).\n"
     ]
    }
   ],
   "source": [
    "iterator = enumerate(train_loader)\n",
    "_, (im, lab) = next(iterator)\n",
    "\n",
    "# show images\n",
    "imshow(\n",
    "    torchvision.utils.make_grid(im),\n",
    "    filename=os.path.join(out_dir, \"raw_images.png\"),\n",
    "    scale=False,\n",
    ")"
   ]
  },
  {
   "cell_type": "code",
   "execution_count": 6,
   "metadata": {},
   "outputs": [
    {
     "name": "stderr",
     "output_type": "stream",
     "text": [
      "Clipping input data to the valid range for imshow with RGB data ([0..1] for floats or [0..255] for integers).\n"
     ]
    }
   ],
   "source": [
    "index = 9\n",
    "img = im[index]\n",
    "imshow(img, title=\"raw\", filename=os.path.join(out_dir, \"raw.png\"), scale=False)"
   ]
  },
  {
   "cell_type": "code",
   "execution_count": 7,
   "metadata": {},
   "outputs": [
    {
     "data": {
      "text/plain": [
       "torch.Size([3, 224, 224])"
      ]
     },
     "execution_count": 7,
     "metadata": {},
     "output_type": "execute_result"
    }
   ],
   "source": [
    "img.shape"
   ]
  },
  {
   "cell_type": "markdown",
   "metadata": {},
   "source": [
    "# devide an image\n",
    "ref: https://note.nkmk.me/python-skimage-util-view-as-blocks/"
   ]
  },
  {
   "cell_type": "code",
   "execution_count": 8,
   "metadata": {},
   "outputs": [],
   "source": [
    "import skimage.util"
   ]
  },
  {
   "cell_type": "code",
   "execution_count": 9,
   "metadata": {},
   "outputs": [
    {
     "name": "stdout",
     "output_type": "stream",
     "text": [
      "56.0\n",
      "28.0\n",
      "14.0\n",
      "7.0\n"
     ]
    }
   ],
   "source": [
    "print(224 / 4)\n",
    "print(224 / 8)\n",
    "print(224 / 16)\n",
    "print(224 / 32)"
   ]
  },
  {
   "cell_type": "code",
   "execution_count": 10,
   "metadata": {},
   "outputs": [
    {
     "name": "stdout",
     "output_type": "stream",
     "text": [
      "0\n",
      "0\n",
      "0\n",
      "0\n"
     ]
    }
   ],
   "source": [
    "# no division remainder\n",
    "print(224 % 4)\n",
    "print(224 % 8)\n",
    "print(224 % 16)\n",
    "print(224 % 32)"
   ]
  },
  {
   "cell_type": "code",
   "execution_count": 11,
   "metadata": {},
   "outputs": [],
   "source": [
    "# Ref: https://github.com/nkmk/python-snippets/blob/5abc15362190047d68a3d917f76a3a61ea1018ce/notebook/numpy_skimage_split_func.py#L10-L15\n",
    "def split_image_cut(img, div_v, div_h):\n",
    "    h, w = img.shape[:2]\n",
    "    block_h, out_h = divmod(h, div_v)\n",
    "    block_w, out_w = divmod(w, div_h)\n",
    "    block_shape = (block_h, block_w, 3) if len(img.shape) == 3 else (block_h, block_w)\n",
    "    return skimage.util.view_as_blocks(img[:h - out_h, :w - out_w], block_shape)"
   ]
  },
  {
   "cell_type": "code",
   "execution_count": 12,
   "metadata": {},
   "outputs": [
    {
     "name": "stderr",
     "output_type": "stream",
     "text": [
      "Clipping input data to the valid range for imshow with RGB data ([0..1] for floats or [0..255] for integers).\n"
     ]
    }
   ],
   "source": [
    "seed = 42\n",
    "np.random.seed(seed)\n",
    "img = im[index]\n",
    "# scales = [4, 8, 16, 32]\n",
    "div_v = 8\n",
    "div_h = div_v \n",
    "blocks = split_image_cut(img.numpy().transpose(1, 2, 0), div_v=div_v, div_h=div_h).squeeze()\n",
    "\n",
    "for v in range(div_v):\n",
    "    blocks[v] = blocks[v, np.random.permutation(div_v), ...]\n",
    "\n",
    "# \"img\" and \"blocks\" have shared memory (unless copy() is used).\n",
    "imshow(img=img, filename=os.path.join(out_dir, f\"jumbled_{div_v}x{div_h}.png\"), save_raw=True)"
   ]
  },
  {
   "cell_type": "markdown",
   "metadata": {},
   "source": [
    "seed = 42\n",
    "np.random.seed(seed)\n",
    "img = im[index].numpy().transpose(1, 2, 0)\n",
    "scales = [4, 8, 16, 32]\n",
    "for div_v in scales:\n",
    "    div_h =  div_v\n",
    "    blocks = split_image_cut(img, div_v=div_v, div_h=div_h).squeeze()\n",
    "\n",
    "    for v in range(div_v):\n",
    "        blocks[v] = blocks[v, np.random.permutation(div_v), ...]\n",
    "\n",
    "    # \"img\" and \"blocks\" have shared memory (unless copy() is used).\n",
    "    imshow(img=img, filename=os.path.join(out_dir, f\"jumbled_{div_v}x{div_h}.png\"))"
   ]
  }
 ],
 "metadata": {
  "kernelspec": {
   "display_name": "Python 3",
   "language": "python",
   "name": "python3"
  },
  "language_info": {
   "codemirror_mode": {
    "name": "ipython",
    "version": 3
   },
   "file_extension": ".py",
   "mimetype": "text/x-python",
   "name": "python",
   "nbconvert_exporter": "python",
   "pygments_lexer": "ipython3",
   "version": "3.6.9"
  },
  "toc": {
   "base_numbering": 1,
   "nav_menu": {},
   "number_sections": true,
   "sideBar": true,
   "skip_h1_title": false,
   "title_cell": "Table of Contents",
   "title_sidebar": "Contents",
   "toc_cell": false,
   "toc_position": {},
   "toc_section_display": true,
   "toc_window_display": false
  }
 },
 "nbformat": 4,
 "nbformat_minor": 2
}